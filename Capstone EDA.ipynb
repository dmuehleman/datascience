{
 "cells": [
  {
   "cell_type": "code",
   "execution_count": 1,
   "metadata": {},
   "outputs": [],
   "source": [
    "import pandas as pd\n",
    "import numpy as np\n",
    "import matplotlib.pyplot as plt"
   ]
  },
  {
   "cell_type": "code",
   "execution_count": 2,
   "metadata": {},
   "outputs": [],
   "source": [
    "cpdata2 = pd.read_csv(r'C:\\Users\\langa\\OneDrive\\Documents\\Data Analytics Class\\Capstone\\cpdata2.csv')"
   ]
  },
  {
   "cell_type": "code",
   "execution_count": 3,
   "metadata": {},
   "outputs": [
    {
     "data": {
      "text/html": [
       "<div>\n",
       "<style scoped>\n",
       "    .dataframe tbody tr th:only-of-type {\n",
       "        vertical-align: middle;\n",
       "    }\n",
       "\n",
       "    .dataframe tbody tr th {\n",
       "        vertical-align: top;\n",
       "    }\n",
       "\n",
       "    .dataframe thead th {\n",
       "        text-align: right;\n",
       "    }\n",
       "</style>\n",
       "<table border=\"1\" class=\"dataframe\">\n",
       "  <thead>\n",
       "    <tr style=\"text-align: right;\">\n",
       "      <th></th>\n",
       "      <th>school</th>\n",
       "      <th>sex</th>\n",
       "      <th>age</th>\n",
       "      <th>address</th>\n",
       "      <th>famsize</th>\n",
       "      <th>Pstatus</th>\n",
       "      <th>Medu</th>\n",
       "      <th>Fedu</th>\n",
       "      <th>Mjob</th>\n",
       "      <th>Fjob</th>\n",
       "      <th>...</th>\n",
       "      <th>famrel</th>\n",
       "      <th>freetime</th>\n",
       "      <th>goout</th>\n",
       "      <th>Dalc</th>\n",
       "      <th>Walc</th>\n",
       "      <th>health</th>\n",
       "      <th>absences</th>\n",
       "      <th>G1</th>\n",
       "      <th>G2</th>\n",
       "      <th>G3</th>\n",
       "    </tr>\n",
       "  </thead>\n",
       "  <tbody>\n",
       "    <tr>\n",
       "      <th>0</th>\n",
       "      <td>1</td>\n",
       "      <td>2</td>\n",
       "      <td>18</td>\n",
       "      <td>1</td>\n",
       "      <td>2</td>\n",
       "      <td>2</td>\n",
       "      <td>4</td>\n",
       "      <td>4</td>\n",
       "      <td>3</td>\n",
       "      <td>0</td>\n",
       "      <td>...</td>\n",
       "      <td>4</td>\n",
       "      <td>3</td>\n",
       "      <td>4</td>\n",
       "      <td>1</td>\n",
       "      <td>1</td>\n",
       "      <td>3</td>\n",
       "      <td>6</td>\n",
       "      <td>5</td>\n",
       "      <td>6</td>\n",
       "      <td>6</td>\n",
       "    </tr>\n",
       "    <tr>\n",
       "      <th>1</th>\n",
       "      <td>1</td>\n",
       "      <td>2</td>\n",
       "      <td>17</td>\n",
       "      <td>1</td>\n",
       "      <td>2</td>\n",
       "      <td>1</td>\n",
       "      <td>1</td>\n",
       "      <td>1</td>\n",
       "      <td>3</td>\n",
       "      <td>4</td>\n",
       "      <td>...</td>\n",
       "      <td>5</td>\n",
       "      <td>3</td>\n",
       "      <td>3</td>\n",
       "      <td>1</td>\n",
       "      <td>1</td>\n",
       "      <td>3</td>\n",
       "      <td>4</td>\n",
       "      <td>5</td>\n",
       "      <td>5</td>\n",
       "      <td>6</td>\n",
       "    </tr>\n",
       "    <tr>\n",
       "      <th>2</th>\n",
       "      <td>1</td>\n",
       "      <td>2</td>\n",
       "      <td>15</td>\n",
       "      <td>1</td>\n",
       "      <td>1</td>\n",
       "      <td>1</td>\n",
       "      <td>1</td>\n",
       "      <td>1</td>\n",
       "      <td>3</td>\n",
       "      <td>4</td>\n",
       "      <td>...</td>\n",
       "      <td>4</td>\n",
       "      <td>3</td>\n",
       "      <td>2</td>\n",
       "      <td>2</td>\n",
       "      <td>3</td>\n",
       "      <td>3</td>\n",
       "      <td>10</td>\n",
       "      <td>7</td>\n",
       "      <td>8</td>\n",
       "      <td>10</td>\n",
       "    </tr>\n",
       "    <tr>\n",
       "      <th>3</th>\n",
       "      <td>1</td>\n",
       "      <td>2</td>\n",
       "      <td>15</td>\n",
       "      <td>1</td>\n",
       "      <td>2</td>\n",
       "      <td>1</td>\n",
       "      <td>4</td>\n",
       "      <td>2</td>\n",
       "      <td>1</td>\n",
       "      <td>2</td>\n",
       "      <td>...</td>\n",
       "      <td>3</td>\n",
       "      <td>2</td>\n",
       "      <td>2</td>\n",
       "      <td>1</td>\n",
       "      <td>1</td>\n",
       "      <td>5</td>\n",
       "      <td>2</td>\n",
       "      <td>15</td>\n",
       "      <td>14</td>\n",
       "      <td>15</td>\n",
       "    </tr>\n",
       "    <tr>\n",
       "      <th>4</th>\n",
       "      <td>1</td>\n",
       "      <td>2</td>\n",
       "      <td>16</td>\n",
       "      <td>1</td>\n",
       "      <td>2</td>\n",
       "      <td>1</td>\n",
       "      <td>3</td>\n",
       "      <td>3</td>\n",
       "      <td>4</td>\n",
       "      <td>4</td>\n",
       "      <td>...</td>\n",
       "      <td>4</td>\n",
       "      <td>3</td>\n",
       "      <td>2</td>\n",
       "      <td>1</td>\n",
       "      <td>2</td>\n",
       "      <td>5</td>\n",
       "      <td>4</td>\n",
       "      <td>6</td>\n",
       "      <td>10</td>\n",
       "      <td>10</td>\n",
       "    </tr>\n",
       "  </tbody>\n",
       "</table>\n",
       "<p>5 rows × 33 columns</p>\n",
       "</div>"
      ],
      "text/plain": [
       "   school  sex  age  address  famsize  Pstatus  Medu  Fedu  Mjob  Fjob  ...  \\\n",
       "0       1    2   18        1        2        2     4     4     3     0  ...   \n",
       "1       1    2   17        1        2        1     1     1     3     4  ...   \n",
       "2       1    2   15        1        1        1     1     1     3     4  ...   \n",
       "3       1    2   15        1        2        1     4     2     1     2  ...   \n",
       "4       1    2   16        1        2        1     3     3     4     4  ...   \n",
       "\n",
       "   famrel  freetime  goout  Dalc  Walc  health  absences  G1  G2  G3  \n",
       "0       4         3      4     1     1       3         6   5   6   6  \n",
       "1       5         3      3     1     1       3         4   5   5   6  \n",
       "2       4         3      2     2     3       3        10   7   8  10  \n",
       "3       3         2      2     1     1       5         2  15  14  15  \n",
       "4       4         3      2     1     2       5         4   6  10  10  \n",
       "\n",
       "[5 rows x 33 columns]"
      ]
     },
     "execution_count": 3,
     "metadata": {},
     "output_type": "execute_result"
    }
   ],
   "source": [
    "cpdata2.head()"
   ]
  },
  {
   "cell_type": "code",
   "execution_count": 4,
   "metadata": {},
   "outputs": [
    {
     "data": {
      "text/plain": [
       "school  sex\n",
       "1       1      166\n",
       "        2      183\n",
       "2       1       21\n",
       "        2       25\n",
       "Name: age, dtype: int64"
      ]
     },
     "execution_count": 4,
     "metadata": {},
     "output_type": "execute_result"
    }
   ],
   "source": [
    "cpdata2.groupby(['school','sex'])['age'].count()"
   ]
  },
  {
   "cell_type": "code",
   "execution_count": 5,
   "metadata": {},
   "outputs": [
    {
     "name": "stdout",
     "output_type": "stream",
     "text": [
      "school\n",
      "1    16.521490\n",
      "2    18.021739\n",
      "Name: age, dtype: float64\n"
     ]
    },
    {
     "data": {
      "image/png": "[encoded data removed]",
      "text/plain": [
       "<Figure size 432x288 with 1 Axes>"
      ]
     },
     "metadata": {
      "needs_background": "light"
     },
     "output_type": "display_data"
    }
   ],
   "source": [
    "#school & age\n",
    "print(cpdata2.groupby(['school'])['age'].mean())\n",
    "A = cpdata2.loc[cpdata2['school'] == 1]\n",
    "B = cpdata2.loc[cpdata2['school'] == 2]\n",
    "A2 = A['age']\n",
    "B2 = B['age']\n",
    "plt.boxplot((A2,B2), 0, 'gD', labels = ['GP','MS'])\n",
    "plt.show()"
   ]
  },
  {
   "cell_type": "code",
   "execution_count": 6,
   "metadata": {},
   "outputs": [
    {
     "name": "stdout",
     "output_type": "stream",
     "text": [
      "school\n",
      "1    10.489971\n",
      "2     9.847826\n",
      "Name: G3, dtype: float64\n"
     ]
    },
    {
     "data": {
      "image/png": "[encoded data removed]",
      "text/plain": [
       "<Figure size 432x288 with 1 Axes>"
      ]
     },
     "metadata": {
      "needs_background": "light"
     },
     "output_type": "display_data"
    }
   ],
   "source": [
    "#school and G3\n",
    "print(cpdata2.groupby(['school'])['G3'].mean())\n",
    "A = cpdata2.loc[cpdata2['school'] == 1]\n",
    "B = cpdata2.loc[cpdata2['school'] == 2]\n",
    "A2 = A['G3']\n",
    "B2 = B['G3']\n",
    "plt.boxplot((A2,B2), 0, 'gD', labels = ['GP','MS'])\n",
    "plt.show()"
   ]
  },
  {
   "cell_type": "code",
   "execution_count": 7,
   "metadata": {},
   "outputs": [
    {
     "name": "stdout",
     "output_type": "stream",
     "text": [
      "sex\n",
      "1    10.914439\n",
      "2     9.966346\n",
      "Name: G3, dtype: float64\n"
     ]
    },
    {
     "data": {
      "image/png": "[encoded data removed]",
      "text/plain": [
       "<Figure size 432x288 with 1 Axes>"
      ]
     },
     "metadata": {
      "needs_background": "light"
     },
     "output_type": "display_data"
    }
   ],
   "source": [
    "#sex and G3\n",
    "print(cpdata2.groupby(['sex'])['G3'].mean())\n",
    "A = cpdata2.loc[cpdata2['sex'] == 1]\n",
    "B = cpdata2.loc[cpdata2['sex'] == 2]\n",
    "A2 = A['G3']\n",
    "B2 = B['G3']\n",
    "plt.boxplot((A2,B2), 0, 'gD', labels = ['Male','Female'])\n",
    "plt.show()"
   ]
  },
  {
   "cell_type": "code",
   "execution_count": 8,
   "metadata": {
    "scrolled": true
   },
   "outputs": [
    {
     "name": "stdout",
     "output_type": "stream",
     "text": [
      "age\n",
      "15    11.256098\n",
      "16    11.028846\n",
      "17    10.275510\n",
      "18     9.548780\n",
      "19     8.208333\n",
      "20    14.000000\n",
      "21     7.000000\n",
      "22     8.000000\n",
      "Name: G3, dtype: float64\n"
     ]
    },
    {
     "data": {
      "image/png": "[encoded data removed]",
      "text/plain": [
       "<Figure size 432x288 with 1 Axes>"
      ]
     },
     "metadata": {
      "needs_background": "light"
     },
     "output_type": "display_data"
    },
    {
     "data": {
      "text/plain": [
       "Text(0.5, 0.98, 'G3 scores in each age group')"
      ]
     },
     "execution_count": 8,
     "metadata": {},
     "output_type": "execute_result"
    },
    {
     "data": {
      "image/png": "[encoded data removed]",
      "text/plain": [
       "<Figure size 1080x648 with 6 Axes>"
      ]
     },
     "metadata": {
      "needs_background": "light"
     },
     "output_type": "display_data"
    }
   ],
   "source": [
    "#age and G3\n",
    "print(cpdata2.groupby(['age'])['G3'].mean())\n",
    "A = cpdata2.loc[cpdata2['age'] == 15]\n",
    "B = cpdata2.loc[cpdata2['age'] == 16]\n",
    "C = cpdata2.loc[cpdata2['age'] == 17]\n",
    "D = cpdata2.loc[cpdata2['age'] == 18]\n",
    "E = cpdata2.loc[cpdata2['age'] == 19]\n",
    "F = cpdata2.loc[cpdata2['age'] >= 20]\n",
    "G = cpdata2.loc[cpdata2['age'] == 21]\n",
    "H = cpdata2.loc[cpdata2['age'] == 22]\n",
    "A2 = A['G3']\n",
    "B2 = B['G3']\n",
    "C2 = C['G3']\n",
    "D2 = D['G3']\n",
    "E2 = E['G3']\n",
    "F2 = F['G3']\n",
    "G2 = G['G3']\n",
    "H2 = H['G3']\n",
    "plt.boxplot((A2,B2,C2,D2,E2,F2), 0, 'gD', labels = ['15','16','17','18','19','20+'])\n",
    "plt.xlabel('Age')\n",
    "plt.ylabel('G3 score')\n",
    "plt.title('G3 scores in each age group')\n",
    "plt.show()\n",
    "f, ((a2,b2,c2), (d2,e2,f2)) = plt.subplots(2,3, sharex='col', sharey='row', figsize = (15,9))\n",
    "a2.hist(A2)\n",
    "b2.hist(B2)\n",
    "c2.hist(C2)\n",
    "d2.hist(D2)\n",
    "e2.hist(E2)\n",
    "f2.hist(F2)\n",
    "a2.title.set_text('Age 15')\n",
    "a2.text(0,25,'Average score = 11.3', fontsize=(12))\n",
    "a2.text(0,22,'n = 82',fontsize=(12))\n",
    "b2.title.set_text('Age 16')\n",
    "b2.text(0,25,'Average score = 11.0',fontsize=(12))\n",
    "b2.text(0,22,'n = 104',fontsize=(12))\n",
    "c2.title.set_text('Age 17')\n",
    "c2.text(0,25,'Average score = 10.3',fontsize=(12))\n",
    "c2.text(0,22,'n = 98',fontsize=(12))\n",
    "d2.title.set_text('Age 18')\n",
    "d2.text(0,18,'Average score = 9.5',fontsize=(12))\n",
    "d2.text(0,16,'n = 82',fontsize=(12))\n",
    "e2.title.set_text('Age 19')\n",
    "e2.text(0,18,'Average score = 8.2',fontsize=(12))\n",
    "e2.text(0,16,'n = 24',fontsize=(12))\n",
    "f2.title.set_text('Age 20+')\n",
    "f2.text(0,18,'Average score = 11.4',fontsize=(12))\n",
    "f2.text(0,16,'n = 5',fontsize=(12))\n",
    "plt.suptitle('G3 scores in each age group')"
   ]
  },
  {
   "cell_type": "code",
   "execution_count": 9,
   "metadata": {},
   "outputs": [
    {
     "name": "stdout",
     "output_type": "stream",
     "text": [
      "address\n",
      "1    10.674267\n",
      "2     9.511364\n",
      "Name: G3, dtype: float64\n"
     ]
    },
    {
     "data": {
      "image/png": "[encoded data removed]",
      "text/plain": [
       "<Figure size 432x288 with 1 Axes>"
      ]
     },
     "metadata": {
      "needs_background": "light"
     },
     "output_type": "display_data"
    }
   ],
   "source": [
    "#address and G3\n",
    "print(cpdata2.groupby(['address'])['G3'].mean())\n",
    "A = cpdata2.loc[cpdata2['address'] == 1]\n",
    "B = cpdata2.loc[cpdata2['address'] == 2]\n",
    "A2 = A['G3']\n",
    "B2 = B['G3']\n",
    "plt.boxplot((A2,B2), 0, 'gD', labels = ['Urban','Rural'])\n",
    "plt.show()"
   ]
  },
  {
   "cell_type": "code",
   "execution_count": 10,
   "metadata": {},
   "outputs": [
    {
     "name": "stdout",
     "output_type": "stream",
     "text": [
      "famsize\n",
      "1    11.000000\n",
      "2    10.177936\n",
      "Name: G3, dtype: float64\n"
     ]
    },
    {
     "data": {
      "image/png": "[encoded data removed]",
      "text/plain": [
       "<Figure size 432x288 with 1 Axes>"
      ]
     },
     "metadata": {
      "needs_background": "light"
     },
     "output_type": "display_data"
    }
   ],
   "source": [
    "#Family size and G3\n",
    "print(cpdata2.groupby(['famsize'])['G3'].mean())\n",
    "A = cpdata2.loc[cpdata2['famsize'] == 1]\n",
    "B = cpdata2.loc[cpdata2['famsize'] == 2]\n",
    "A2 = A['G3']\n",
    "B2 = B['G3']\n",
    "plt.boxplot((A2,B2), 0, 'gD', labels = ['<=3','>4'])\n",
    "plt.show()"
   ]
  },
  {
   "cell_type": "code",
   "execution_count": 11,
   "metadata": {},
   "outputs": [
    {
     "name": "stdout",
     "output_type": "stream",
     "text": [
      "Pstatus\n",
      "1    10.324859\n",
      "2    11.195122\n",
      "Name: G3, dtype: float64\n"
     ]
    },
    {
     "data": {
      "image/png": "[encoded data removed]",
      "text/plain": [
       "<Figure size 432x288 with 1 Axes>"
      ]
     },
     "metadata": {
      "needs_background": "light"
     },
     "output_type": "display_data"
    }
   ],
   "source": [
    "#Parents status and G3\n",
    "print(cpdata2.groupby(['Pstatus'])['G3'].mean())\n",
    "A = cpdata2.loc[cpdata2['Pstatus'] == 1]\n",
    "B = cpdata2.loc[cpdata2['Pstatus'] == 2]\n",
    "A2 = A['G3']\n",
    "B2 = B['G3']\n",
    "plt.boxplot((A2,B2), 0, 'gD', labels = ['Living together','Living separate'])\n",
    "plt.show()"
   ]
  },
  {
   "cell_type": "code",
   "execution_count": 12,
   "metadata": {},
   "outputs": [
    {
     "name": "stdout",
     "output_type": "stream",
     "text": [
      "Average G3 score based on mothers education Medu\n",
      "0    13.000000\n",
      "1     8.677966\n",
      "2     9.728155\n",
      "3    10.303030\n",
      "4    11.763359\n",
      "Name: G3, dtype: float64\n"
     ]
    },
    {
     "data": {
      "image/png": "[encoded data removed]",
      "text/plain": [
       "<Figure size 432x288 with 1 Axes>"
      ]
     },
     "metadata": {
      "needs_background": "light"
     },
     "output_type": "display_data"
    }
   ],
   "source": [
    "#Mothers education and G3\n",
    "print('Average G3 score based on mothers education',cpdata2.groupby(['Medu'])['G3'].mean())\n",
    "A = cpdata2.loc[cpdata2['Medu'] == 0]\n",
    "B = cpdata2.loc[cpdata2['Medu'] == 1]\n",
    "C = cpdata2.loc[cpdata2['Medu'] == 2]\n",
    "D = cpdata2.loc[cpdata2['Medu'] == 3]\n",
    "E = cpdata2.loc[cpdata2['Medu'] == 4]\n",
    "A2 = A['G3']\n",
    "B2 = B['G3']\n",
    "C2 = C['G3']\n",
    "D2 = D['G3']\n",
    "E2 = E['G3']\n",
    "plt.boxplot((A2,B2,C2,D2,E2), 0, 'gD', labels = ['none','4th grade', '9th grade','high school','higher'])\n",
    "plt.show()"
   ]
  },
  {
   "cell_type": "code",
   "execution_count": 13,
   "metadata": {},
   "outputs": [
    {
     "name": "stdout",
     "output_type": "stream",
     "text": [
      "Average G3 score based on fathers education Fedu\n",
      "0    13.000000\n",
      "1     9.158537\n",
      "2    10.260870\n",
      "3    10.660000\n",
      "4    11.364583\n",
      "Name: G3, dtype: float64\n"
     ]
    },
    {
     "data": {
      "image/png": "[encoded data removed]",
      "text/plain": [
       "<Figure size 432x288 with 1 Axes>"
      ]
     },
     "metadata": {
      "needs_background": "light"
     },
     "output_type": "display_data"
    }
   ],
   "source": [
    "#Fathers education and G3\n",
    "print('Average G3 score based on fathers education',cpdata2.groupby(['Fedu'])['G3'].mean())\n",
    "A = cpdata2.loc[cpdata2['Fedu'] == 0]\n",
    "B = cpdata2.loc[cpdata2['Fedu'] == 1]\n",
    "C = cpdata2.loc[cpdata2['Fedu'] == 2]\n",
    "D = cpdata2.loc[cpdata2['Fedu'] == 3]\n",
    "E = cpdata2.loc[cpdata2['Fedu'] == 4]\n",
    "A2 = A['G3']\n",
    "B2 = B['G3']\n",
    "C2 = C['G3']\n",
    "D2 = D['G3']\n",
    "E2 = E['G3']\n",
    "plt.boxplot((A2,B2,C2,D2,E2), 0, 'gD', labels = ['none','4th grade', '9th grade','high school','higher'])\n",
    "plt.show()"
   ]
  },
  {
   "cell_type": "code",
   "execution_count": 14,
   "metadata": {},
   "outputs": [
    {
     "name": "stdout",
     "output_type": "stream",
     "text": [
      "Average G3 score based on mothers job Mjob\n",
      "0    11.051724\n",
      "1    12.147059\n",
      "2    11.019417\n",
      "3     9.152542\n",
      "4     9.822695\n",
      "Name: G3, dtype: float64\n"
     ]
    },
    {
     "data": {
      "image/png": "[encoded data removed]",
      "text/plain": [
       "<Figure size 432x288 with 1 Axes>"
      ]
     },
     "metadata": {
      "needs_background": "light"
     },
     "output_type": "display_data"
    }
   ],
   "source": [
    "#Mothers job and G3\n",
    "print('Average G3 score based on mothers job',cpdata2.groupby(['Mjob'])['G3'].mean())\n",
    "A = cpdata2.loc[cpdata2['Mjob'] == 0]\n",
    "B = cpdata2.loc[cpdata2['Mjob'] == 1]\n",
    "C = cpdata2.loc[cpdata2['Mjob'] == 2]\n",
    "D = cpdata2.loc[cpdata2['Mjob'] == 3]\n",
    "E = cpdata2.loc[cpdata2['Mjob'] == 4]\n",
    "A2 = A['G3']\n",
    "B2 = B['G3']\n",
    "C2 = C['G3']\n",
    "D2 = D['G3']\n",
    "E2 = E['G3']\n",
    "plt.boxplot((A2,B2,C2,D2,E2), 0, 'gD', labels = ['teacher','health care', 'civil services','at home','other'])\n",
    "plt.show()"
   ]
  },
  {
   "cell_type": "code",
   "execution_count": 15,
   "metadata": {},
   "outputs": [
    {
     "name": "stdout",
     "output_type": "stream",
     "text": [
      "Average G3 score based on fathers job Fjob\n",
      "0    11.965517\n",
      "1    11.611111\n",
      "2    10.297297\n",
      "3    10.150000\n",
      "4    10.193548\n",
      "Name: G3, dtype: float64\n"
     ]
    },
    {
     "data": {
      "image/png": "[encoded data removed]",
      "text/plain": [
       "<Figure size 432x288 with 1 Axes>"
      ]
     },
     "metadata": {
      "needs_background": "light"
     },
     "output_type": "display_data"
    }
   ],
   "source": [
    "#Fathers job and G3\n",
    "print('Average G3 score based on fathers job',cpdata2.groupby(['Fjob'])['G3'].mean())\n",
    "A = cpdata2.loc[cpdata2['Fjob'] == 0]\n",
    "B = cpdata2.loc[cpdata2['Fjob'] == 1]\n",
    "C = cpdata2.loc[cpdata2['Fjob'] == 2]\n",
    "D = cpdata2.loc[cpdata2['Fjob'] == 3]\n",
    "E = cpdata2.loc[cpdata2['Fjob'] == 4]\n",
    "A2 = A['G3']\n",
    "B2 = B['G3']\n",
    "C2 = C['G3']\n",
    "D2 = D['G3']\n",
    "E2 = E['G3']\n",
    "plt.boxplot((A2,B2,C2,D2,E2), 0, 'gD', labels = ['teacher','health care', 'civil services','at home','other'])\n",
    "plt.show()"
   ]
  },
  {
   "cell_type": "code",
   "execution_count": 16,
   "metadata": {},
   "outputs": [
    {
     "name": "stdout",
     "output_type": "stream",
     "text": [
      "Average G3 score based on reason for chosen school reason\n",
      "0    10.256881\n",
      "1    11.142857\n",
      "2     9.820690\n",
      "3    11.166667\n",
      "Name: G3, dtype: float64\n"
     ]
    },
    {
     "data": {
      "image/png": "[encoded data removed]",
      "text/plain": [
       "<Figure size 432x288 with 1 Axes>"
      ]
     },
     "metadata": {
      "needs_background": "light"
     },
     "output_type": "display_data"
    }
   ],
   "source": [
    "#Reason and G3\n",
    "print('Average G3 score based on reason for chosen school',cpdata2.groupby(['reason'])['G3'].mean())\n",
    "A = cpdata2.loc[cpdata2['reason'] == 0]\n",
    "B = cpdata2.loc[cpdata2['reason'] == 1]\n",
    "C = cpdata2.loc[cpdata2['reason'] == 2]\n",
    "D = cpdata2.loc[cpdata2['reason'] == 3]\n",
    "A2 = A['G3']\n",
    "B2 = B['G3']\n",
    "C2 = C['G3']\n",
    "D2 = D['G3']\n",
    "plt.boxplot((A2,B2,C2,D2), 0, 'gD', labels = ['close to home', 'reputation','course preference','other'])\n",
    "plt.show()"
   ]
  },
  {
   "cell_type": "code",
   "execution_count": 17,
   "metadata": {},
   "outputs": [
    {
     "name": "stdout",
     "output_type": "stream",
     "text": [
      "Average G3 score based on students guardian guardian\n",
      "1    10.483516\n",
      "2    10.688889\n",
      "3     9.062500\n",
      "Name: G3, dtype: float64\n"
     ]
    },
    {
     "data": {
      "image/png": "[encoded data removed]",
      "text/plain": [
       "<Figure size 432x288 with 1 Axes>"
      ]
     },
     "metadata": {
      "needs_background": "light"
     },
     "output_type": "display_data"
    }
   ],
   "source": [
    "#Guardian and G3\n",
    "print('Average G3 score based on students guardian',cpdata2.groupby(['guardian'])['G3'].mean())\n",
    "A = cpdata2.loc[cpdata2['guardian'] == 1]\n",
    "B = cpdata2.loc[cpdata2['guardian'] == 2]\n",
    "C = cpdata2.loc[cpdata2['guardian'] == 3]\n",
    "A2 = A['G3']\n",
    "B2 = B['G3']\n",
    "C2 = C['G3']\n",
    "plt.boxplot((A2,B2,C2), 0, 'gD', labels = ['mother','father','other'])\n",
    "plt.show()"
   ]
  },
  {
   "cell_type": "code",
   "execution_count": 18,
   "metadata": {},
   "outputs": [
    {
     "name": "stdout",
     "output_type": "stream",
     "text": [
      "Average G3 score based on travel time to school traveltime\n",
      "1    10.782101\n",
      "2     9.906542\n",
      "3     9.260870\n",
      "4     8.750000\n",
      "Name: G3, dtype: float64\n"
     ]
    },
    {
     "data": {
      "image/png": "[encoded data removed]",
      "text/plain": [
       "<Figure size 432x288 with 1 Axes>"
      ]
     },
     "metadata": {
      "needs_background": "light"
     },
     "output_type": "display_data"
    }
   ],
   "source": [
    "#travel time and G3\n",
    "print('Average G3 score based on travel time to school',cpdata2.groupby(['traveltime'])['G3'].mean())\n",
    "A = cpdata2.loc[cpdata2['traveltime'] == 1]\n",
    "B = cpdata2.loc[cpdata2['traveltime'] == 2]\n",
    "C = cpdata2.loc[cpdata2['traveltime'] == 3]\n",
    "D = cpdata2.loc[cpdata2['traveltime'] == 4]\n",
    "A2 = A['G3']\n",
    "B2 = B['G3']\n",
    "C2 = C['G3']\n",
    "D2 = D['G3']\n",
    "plt.boxplot((A2,B2,C2,D2), 0, 'gD', labels = ['<15 min','15-30 min','30-60 min','>60 min'])\n",
    "plt.show()"
   ]
  },
  {
   "cell_type": "code",
   "execution_count": 19,
   "metadata": {},
   "outputs": [
    {
     "name": "stdout",
     "output_type": "stream",
     "text": [
      "Average G3 score based on study time studytime\n",
      "1    10.047619\n",
      "2    10.171717\n",
      "3    11.400000\n",
      "4    11.259259\n",
      "Name: G3, dtype: float64\n"
     ]
    },
    {
     "data": {
      "image/png": "[encoded data removed]",
      "text/plain": [
       "<Figure size 432x288 with 1 Axes>"
      ]
     },
     "metadata": {
      "needs_background": "light"
     },
     "output_type": "display_data"
    }
   ],
   "source": [
    "#study time and G3\n",
    "print('Average G3 score based on study time',cpdata2.groupby(['studytime'])['G3'].mean())\n",
    "A = cpdata2.loc[cpdata2['studytime'] == 1]\n",
    "B = cpdata2.loc[cpdata2['studytime'] == 2]\n",
    "C = cpdata2.loc[cpdata2['studytime'] == 3]\n",
    "D = cpdata2.loc[cpdata2['studytime'] == 4]\n",
    "A2 = A['G3']\n",
    "B2 = B['G3']\n",
    "C2 = C['G3']\n",
    "D2 = D['G3']\n",
    "plt.boxplot((A2,B2,C2,D2), 0, 'gD', labels = ['<15 min','15-30 min','30-60 min','>60 min'])\n",
    "plt.show()"
   ]
  },
  {
   "cell_type": "code",
   "execution_count": 20,
   "metadata": {},
   "outputs": [
    {
     "name": "stdout",
     "output_type": "stream",
     "text": [
      "Average G3 score based on number of past class failures\n",
      "0    11.253205\n",
      "1     8.120000\n",
      "2     6.235294\n",
      "3     5.687500\n",
      "Name: G3, dtype: float64\n"
     ]
    },
    {
     "data": {
      "image/png": "[encoded data removed]",
      "text/plain": [
       "<Figure size 432x288 with 1 Axes>"
      ]
     },
     "metadata": {
      "needs_background": "light"
     },
     "output_type": "display_data"
    }
   ],
   "source": [
    "#failures and G3\n",
    "print('Average G3 score based on number of past class',cpdata2.groupby(['failures'])['G3'].mean())\n",
    "A = cpdata2.loc[cpdata2['failures'] == 0]\n",
    "B = cpdata2.loc[cpdata2['failures'] == 1]\n",
    "C = cpdata2.loc[cpdata2['failures'] == 2]\n",
    "D = cpdata2.loc[cpdata2['failures'] == 3]\n",
    "A2 = A['G3']\n",
    "B2 = B['G3']\n",
    "C2 = C['G3']\n",
    "D2 = D['G3']\n",
    "plt.boxplot((A2,B2,C2,D2), 0, 'gD', labels = ['0','1','2','>3'])\n",
    "plt.xlabel('# of failures')\n",
    "plt.ylabel('G3 score')\n",
    "plt.title('Average G3 score compared to number of past class failures')\n",
    "plt.ylim(-2,24)\n",
    "plt.text(.855,21,'11.3')\n",
    "plt.text(1.9,19,'8.1')\n",
    "plt.text(2.9,16,'6.2')\n",
    "plt.text(3.9,11,'5.7')\n",
    "plt.show()"
   ]
  },
  {
   "cell_type": "code",
   "execution_count": 21,
   "metadata": {},
   "outputs": [
    {
     "name": "stdout",
     "output_type": "stream",
     "text": [
      "Average G3 score based on extra educational support schoolsup\n",
      "1     9.431373\n",
      "2    10.561047\n",
      "Name: G3, dtype: float64\n"
     ]
    },
    {
     "data": {
      "image/png": "[encoded data removed]",
      "text/plain": [
       "<Figure size 432x288 with 1 Axes>"
      ]
     },
     "metadata": {
      "needs_background": "light"
     },
     "output_type": "display_data"
    }
   ],
   "source": [
    "#Extra educational support and G3\n",
    "print('Average G3 score based on extra educational support',cpdata2.groupby(['schoolsup'])['G3'].mean())\n",
    "A = cpdata2.loc[cpdata2['schoolsup'] == 1]\n",
    "B = cpdata2.loc[cpdata2['schoolsup'] == 2]\n",
    "A2 = A['G3']\n",
    "B2 = B['G3']\n",
    "plt.boxplot((A2,B2), 0, 'gD', labels = ['yes','no'])\n",
    "plt.show()"
   ]
  },
  {
   "cell_type": "code",
   "execution_count": 22,
   "metadata": {},
   "outputs": [
    {
     "name": "stdout",
     "output_type": "stream",
     "text": [
      "Average G3 score based on family educational support famsup\n",
      "1    10.272727\n",
      "2    10.640523\n",
      "Name: G3, dtype: float64\n"
     ]
    },
    {
     "data": {
      "image/png": "[encoded data removed]",
      "text/plain": [
       "<Figure size 432x288 with 1 Axes>"
      ]
     },
     "metadata": {
      "needs_background": "light"
     },
     "output_type": "display_data"
    }
   ],
   "source": [
    "#Family educational support and G3\n",
    "print('Average G3 score based on family educational support',cpdata2.groupby(['famsup'])['G3'].mean())\n",
    "A = cpdata2.loc[cpdata2['famsup'] == 1]\n",
    "B = cpdata2.loc[cpdata2['famsup'] == 2]\n",
    "A2 = A['G3']\n",
    "B2 = B['G3']\n",
    "plt.boxplot((A2,B2), 0, 'gD', labels = ['yes','no'])\n",
    "plt.show()"
   ]
  },
  {
   "cell_type": "code",
   "execution_count": 23,
   "metadata": {},
   "outputs": [
    {
     "name": "stdout",
     "output_type": "stream",
     "text": [
      "Average G3 score based on if extra paid classes were taken paid\n",
      "1    10.922652\n",
      "2     9.985981\n",
      "Name: G3, dtype: float64\n"
     ]
    },
    {
     "data": {
      "image/png": "[encoded data removed]",
      "text/plain": [
       "<Figure size 432x288 with 1 Axes>"
      ]
     },
     "metadata": {
      "needs_background": "light"
     },
     "output_type": "display_data"
    }
   ],
   "source": [
    "#Extra paid classes and G3\n",
    "print('Average G3 score based on if extra paid classes were taken',cpdata2.groupby(['paid'])['G3'].mean())\n",
    "A = cpdata2.loc[cpdata2['paid'] == 1]\n",
    "B = cpdata2.loc[cpdata2['paid'] == 2]\n",
    "A2 = A['G3']\n",
    "B2 = B['G3']\n",
    "plt.boxplot((A2,B2), 0, 'gD', labels = ['yes','no'])\n",
    "plt.show()"
   ]
  },
  {
   "cell_type": "code",
   "execution_count": 24,
   "metadata": {},
   "outputs": [
    {
     "name": "stdout",
     "output_type": "stream",
     "text": [
      "Average G3 score based on extra curricular activities activities\n",
      "1    10.487562\n",
      "2    10.340206\n",
      "Name: G3, dtype: float64\n"
     ]
    },
    {
     "data": {
      "image/png": "[encoded data removed]",
      "text/plain": [
       "<Figure size 432x288 with 1 Axes>"
      ]
     },
     "metadata": {
      "needs_background": "light"
     },
     "output_type": "display_data"
    }
   ],
   "source": [
    "#Extra curricular activities and G3\n",
    "print('Average G3 score based on extra curricular activities',cpdata2.groupby(['activities'])['G3'].mean())\n",
    "A = cpdata2.loc[cpdata2['activities'] == 1]\n",
    "B = cpdata2.loc[cpdata2['activities'] == 2]\n",
    "A2 = A['G3']\n",
    "B2 = B['G3']\n",
    "plt.boxplot((A2,B2), 0, 'gD', labels = ['yes','no'])\n",
    "plt.show()"
   ]
  },
  {
   "cell_type": "code",
   "execution_count": 25,
   "metadata": {},
   "outputs": [
    {
     "name": "stdout",
     "output_type": "stream",
     "text": [
      "Average G3 score based on nursery attendance nursery\n",
      "1    10.535032\n",
      "2     9.950617\n",
      "Name: G3, dtype: float64\n"
     ]
    },
    {
     "data": {
      "image/png": "[encoded data removed]",
      "text/plain": [
       "<Figure size 432x288 with 1 Axes>"
      ]
     },
     "metadata": {
      "needs_background": "light"
     },
     "output_type": "display_data"
    }
   ],
   "source": [
    "#Nursery and G3\n",
    "print('Average G3 score based on nursery attendance',cpdata2.groupby(['nursery'])['G3'].mean())\n",
    "A = cpdata2.loc[cpdata2['nursery'] == 1]\n",
    "B = cpdata2.loc[cpdata2['nursery'] == 2]\n",
    "A2 = A['G3']\n",
    "B2 = B['G3']\n",
    "plt.boxplot((A2,B2), 0, 'gD', labels = ['yes','no'])\n",
    "plt.show()"
   ]
  },
  {
   "cell_type": "code",
   "execution_count": 26,
   "metadata": {},
   "outputs": [
    {
     "name": "stdout",
     "output_type": "stream",
     "text": [
      "Average G3 score based on if student wants to pursue higher education higher\n",
      "1    10.608\n",
      "2     6.800\n",
      "Name: G3, dtype: float64\n"
     ]
    },
    {
     "data": {
      "image/png": "[encoded data removed]",
      "text/plain": [
       "<Figure size 432x288 with 1 Axes>"
      ]
     },
     "metadata": {
      "needs_background": "light"
     },
     "output_type": "display_data"
    }
   ],
   "source": [
    "#Higher education and G3\n",
    "print('Average G3 score based on if student wants to pursue higher education',cpdata2.groupby(['higher'])['G3'].mean())\n",
    "A = cpdata2.loc[cpdata2['higher'] == 1]\n",
    "B = cpdata2.loc[cpdata2['higher'] == 2]\n",
    "A2 = A['G3']\n",
    "B2 = B['G3']\n",
    "plt.boxplot((A2,B2), 0, 'gD', labels = ['yes','no'])\n",
    "plt.show()"
   ]
  },
  {
   "cell_type": "code",
   "execution_count": 27,
   "metadata": {},
   "outputs": [
    {
     "name": "stdout",
     "output_type": "stream",
     "text": [
      "Average G3 score based on internet access at home internet\n",
      "1    10.617021\n",
      "2     9.409091\n",
      "Name: G3, dtype: float64\n"
     ]
    },
    {
     "data": {
      "image/png": "[encoded data removed]",
      "text/plain": [
       "<Figure size 432x288 with 1 Axes>"
      ]
     },
     "metadata": {
      "needs_background": "light"
     },
     "output_type": "display_data"
    }
   ],
   "source": [
    "#Internet and G3\n",
    "print('Average G3 score based on internet access at home',cpdata2.groupby(['internet'])['G3'].mean())\n",
    "A = cpdata2.loc[cpdata2['internet'] == 1]\n",
    "B = cpdata2.loc[cpdata2['internet'] == 2]\n",
    "A2 = A['G3']\n",
    "B2 = B['G3']\n",
    "plt.boxplot((A2,B2), 0, 'gD', labels = ['yes','no'])\n",
    "plt.show()"
   ]
  },
  {
   "cell_type": "code",
   "execution_count": 28,
   "metadata": {},
   "outputs": [
    {
     "name": "stdout",
     "output_type": "stream",
     "text": [
      "Average G3 score based on if student is in a romantic relationship romantic\n",
      "1     9.575758\n",
      "2    10.836502\n",
      "Name: G3, dtype: float64\n"
     ]
    },
    {
     "data": {
      "image/png": "[encoded data removed]",
      "text/plain": [
       "<Figure size 432x288 with 1 Axes>"
      ]
     },
     "metadata": {
      "needs_background": "light"
     },
     "output_type": "display_data"
    }
   ],
   "source": [
    "#Romantic and G3\n",
    "print('Average G3 score based on if student is in a romantic relationship',cpdata2.groupby(['romantic'])['G3'].mean())\n",
    "A = cpdata2.loc[cpdata2['romantic'] == 1]\n",
    "B = cpdata2.loc[cpdata2['romantic'] == 2]\n",
    "A2 = A['G3']\n",
    "B2 = B['G3']\n",
    "plt.boxplot((A2,B2), 0, 'gD', labels = ['yes','no'])\n",
    "plt.show()"
   ]
  },
  {
   "cell_type": "code",
   "execution_count": 29,
   "metadata": {},
   "outputs": [
    {
     "name": "stdout",
     "output_type": "stream",
     "text": [
      "Average G3 score based on family relationship famrel\n",
      "1    10.625000\n",
      "2     9.888889\n",
      "3    10.044118\n",
      "4    10.358974\n",
      "5    10.830189\n",
      "Name: G3, dtype: float64\n"
     ]
    },
    {
     "data": {
      "image/png": "[encoded data removed]",
      "text/plain": [
       "<Figure size 432x288 with 1 Axes>"
      ]
     },
     "metadata": {
      "needs_background": "light"
     },
     "output_type": "display_data"
    }
   ],
   "source": [
    "#Family relationship and G3\n",
    "print('Average G3 score based on family relationship',cpdata2.groupby(['famrel'])['G3'].mean())\n",
    "A = cpdata2.loc[cpdata2['famrel'] == 1]\n",
    "B = cpdata2.loc[cpdata2['famrel'] == 2]\n",
    "C = cpdata2.loc[cpdata2['famrel'] == 3]\n",
    "D = cpdata2.loc[cpdata2['famrel'] == 4]\n",
    "E = cpdata2.loc[cpdata2['famrel'] == 5]\n",
    "A2 = A['G3']\n",
    "B2 = B['G3']\n",
    "C2 = C['G3']\n",
    "D2 = D['G3']\n",
    "E2 = E['G3']\n",
    "plt.boxplot((A2,B2,C2,D2,E2), 0, 'gD', labels = ['verybad','bad','average','good','excellent'])\n",
    "plt.show()"
   ]
  },
  {
   "cell_type": "code",
   "execution_count": 30,
   "metadata": {},
   "outputs": [
    {
     "name": "stdout",
     "output_type": "stream",
     "text": [
      "Average G3 score based on free time after school freetime\n",
      "1     9.842105\n",
      "2    11.562500\n",
      "3     9.783439\n",
      "4    10.426087\n",
      "5    11.300000\n",
      "Name: G3, dtype: float64\n"
     ]
    },
    {
     "data": {
      "image/png": "[encoded data removed]",
      "text/plain": [
       "<Figure size 432x288 with 1 Axes>"
      ]
     },
     "metadata": {
      "needs_background": "light"
     },
     "output_type": "display_data"
    }
   ],
   "source": [
    "#Free time after school and G3\n",
    "print('Average G3 score based on free time after school',cpdata2.groupby(['freetime'])['G3'].mean())\n",
    "A = cpdata2.loc[cpdata2['freetime'] == 1]\n",
    "B = cpdata2.loc[cpdata2['freetime'] == 2]\n",
    "C = cpdata2.loc[cpdata2['freetime'] == 3]\n",
    "D = cpdata2.loc[cpdata2['freetime'] == 4]\n",
    "E = cpdata2.loc[cpdata2['freetime'] == 5]\n",
    "A2 = A['G3']\n",
    "B2 = B['G3']\n",
    "C2 = C['G3']\n",
    "D2 = D['G3']\n",
    "E2 = E['G3']\n",
    "plt.boxplot((A2,B2,C2,D2,E2), 0, 'gD', labels = ['very low','low','average','high','very high'])\n",
    "plt.show()"
   ]
  },
  {
   "cell_type": "code",
   "execution_count": 31,
   "metadata": {},
   "outputs": [
    {
     "name": "stdout",
     "output_type": "stream",
     "text": [
      "Average G3 score based on time going out with friends goout\n",
      "1     9.869565\n",
      "2    11.194175\n",
      "3    10.961538\n",
      "4     9.651163\n",
      "5     9.037736\n",
      "Name: G3, dtype: float64\n"
     ]
    },
    {
     "data": {
      "image/png": "[encoded data removed]",
      "text/plain": [
       "<Figure size 432x288 with 1 Axes>"
      ]
     },
     "metadata": {
      "needs_background": "light"
     },
     "output_type": "display_data"
    }
   ],
   "source": [
    "#Going out with friends and G3\n",
    "print('Average G3 score based on time going out with friends',cpdata2.groupby(['goout'])['G3'].mean())\n",
    "A = cpdata2.loc[cpdata2['goout'] == 1]\n",
    "B = cpdata2.loc[cpdata2['goout'] == 2]\n",
    "C = cpdata2.loc[cpdata2['goout'] == 3]\n",
    "D = cpdata2.loc[cpdata2['goout'] == 4]\n",
    "E = cpdata2.loc[cpdata2['goout'] == 5]\n",
    "A2 = A['G3']\n",
    "B2 = B['G3']\n",
    "C2 = C['G3']\n",
    "D2 = D['G3']\n",
    "E2 = E['G3']\n",
    "plt.boxplot((A2,B2,C2,D2,E2), 0, 'gD', labels = ['very low','low','average','high','very high'])\n",
    "plt.show()"
   ]
  },
  {
   "cell_type": "code",
   "execution_count": 32,
   "metadata": {},
   "outputs": [
    {
     "name": "stdout",
     "output_type": "stream",
     "text": [
      "Average G3 score based on alcohol consumption during the week Dalc\n",
      "1    10.731884\n",
      "2     9.253333\n",
      "3    10.500000\n",
      "4     9.888889\n",
      "5    10.666667\n",
      "Name: G3, dtype: float64\n"
     ]
    },
    {
     "data": {
      "image/png": "[encoded data removed]",
      "text/plain": [
       "<Figure size 432x288 with 1 Axes>"
      ]
     },
     "metadata": {
      "needs_background": "light"
     },
     "output_type": "display_data"
    }
   ],
   "source": [
    "#Workday alcohol consumption and G3\n",
    "print('Average G3 score based on alcohol consumption during the week',cpdata2.groupby(['Dalc'])['G3'].mean())\n",
    "A = cpdata2.loc[cpdata2['Dalc'] == 1]\n",
    "B = cpdata2.loc[cpdata2['Dalc'] == 2]\n",
    "C = cpdata2.loc[cpdata2['Dalc'] == 3]\n",
    "D = cpdata2.loc[cpdata2['Dalc'] == 4]\n",
    "E = cpdata2.loc[cpdata2['Dalc'] == 5]\n",
    "A2 = A['G3']\n",
    "B2 = B['G3']\n",
    "C2 = C['G3']\n",
    "D2 = D['G3']\n",
    "E2 = E['G3']\n",
    "plt.boxplot((A2,B2,C2,D2,E2), 0, 'gD', labels = ['very low','low','average','high','very high'])\n",
    "plt.show()"
   ]
  },
  {
   "cell_type": "code",
   "execution_count": 33,
   "metadata": {},
   "outputs": [
    {
     "name": "stdout",
     "output_type": "stream",
     "text": [
      "Average G3 score based on alcohol consumption during the weekend Walc\n",
      "1    10.735099\n",
      "2    10.082353\n",
      "3    10.725000\n",
      "4     9.686275\n",
      "5    10.142857\n",
      "Name: G3, dtype: float64\n"
     ]
    },
    {
     "data": {
      "image/png": "[encoded data removed]",
      "text/plain": [
       "<Figure size 432x288 with 1 Axes>"
      ]
     },
     "metadata": {
      "needs_background": "light"
     },
     "output_type": "display_data"
    }
   ],
   "source": [
    "#Weekend alcohol consumption and G3\n",
    "print('Average G3 score based on alcohol consumption during the weekend',cpdata2.groupby(['Walc'])['G3'].mean())\n",
    "A = cpdata2.loc[cpdata2['Walc'] == 1]\n",
    "B = cpdata2.loc[cpdata2['Walc'] == 2]\n",
    "C = cpdata2.loc[cpdata2['Walc'] == 3]\n",
    "D = cpdata2.loc[cpdata2['Walc'] == 4]\n",
    "E = cpdata2.loc[cpdata2['Walc'] == 5]\n",
    "A2 = A['G3']\n",
    "B2 = B['G3']\n",
    "C2 = C['G3']\n",
    "D2 = D['G3']\n",
    "E2 = E['G3']\n",
    "plt.boxplot((A2,B2,C2,D2,E2), 0, 'gD', labels = ['very low','low','average','high','very high'])\n",
    "plt.show()"
   ]
  },
  {
   "cell_type": "code",
   "execution_count": 34,
   "metadata": {},
   "outputs": [
    {
     "name": "stdout",
     "output_type": "stream",
     "text": [
      "Average G3 score based on current health status health\n",
      "1    11.872340\n",
      "2    10.222222\n",
      "3    10.010989\n",
      "4    10.106061\n",
      "5    10.397260\n",
      "Name: G3, dtype: float64\n"
     ]
    },
    {
     "data": {
      "image/png": "[encoded data removed]",
      "text/plain": [
       "<Figure size 432x288 with 1 Axes>"
      ]
     },
     "metadata": {
      "needs_background": "light"
     },
     "output_type": "display_data"
    }
   ],
   "source": [
    "#Health and G3\n",
    "print('Average G3 score based on current health status',cpdata2.groupby(['health'])['G3'].mean())\n",
    "A = cpdata2.loc[cpdata2['health'] == 1]\n",
    "B = cpdata2.loc[cpdata2['health'] == 2]\n",
    "C = cpdata2.loc[cpdata2['health'] == 3]\n",
    "D = cpdata2.loc[cpdata2['health'] == 4]\n",
    "E = cpdata2.loc[cpdata2['health'] == 5]\n",
    "A2 = A['G3']\n",
    "B2 = B['G3']\n",
    "C2 = C['G3']\n",
    "D2 = D['G3']\n",
    "E2 = E['G3']\n",
    "plt.boxplot((A2,B2,C2,D2,E2), 0, 'gD', labels = ['very bad','bad','average','good','very good'])\n",
    "plt.show()"
   ]
  },
  {
   "cell_type": "code",
   "execution_count": 35,
   "metadata": {},
   "outputs": [
    {
     "data": {
      "text/plain": [
       "Text(0, 0.5, 'G3 score')"
      ]
     },
     "execution_count": 35,
     "metadata": {},
     "output_type": "execute_result"
    },
    {
     "data": {
      "image/png": "[encoded data removed]",
      "text/plain": [
       "<Figure size 432x288 with 1 Axes>"
      ]
     },
     "metadata": {
      "needs_background": "light"
     },
     "output_type": "display_data"
    }
   ],
   "source": [
    "plt.scatter(cpdata2['absences'], cpdata2['G3'])\n",
    "plt.xlabel('absences')\n",
    "plt.ylabel('G3 score')"
   ]
  },
  {
   "cell_type": "code",
   "execution_count": null,
   "metadata": {},
   "outputs": [],
   "source": []
  }
 ],
 "metadata": {
  "kernelspec": {
   "display_name": "Python 3",
   "language": "python",
   "name": "python3"
  },
  "language_info": {
   "codemirror_mode": {
    "name": "ipython",
    "version": 3
   },
   "file_extension": ".py",
   "mimetype": "text/x-python",
   "name": "python",
   "nbconvert_exporter": "python",
   "pygments_lexer": "ipython3",
   "version": "3.8.3"
  }
 },
 "nbformat": 4,
 "nbformat_minor": 4
}
